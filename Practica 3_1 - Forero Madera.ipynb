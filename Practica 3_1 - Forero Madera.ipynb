{
  "cells": [
    {
      "cell_type": "markdown",
      "source": [
        "# Carga y Visualización de Datos\n"
      ],
      "metadata": {
        "id": "F0fdtan580er"
      }
    },
    {
      "cell_type": "code",
      "source": [],
      "metadata": {
        "id": "lq8nVxnb84sQ"
      },
      "execution_count": null,
      "outputs": []
    },
    {
      "cell_type": "markdown",
      "source": [
        "# Modelo Keras - Recurrente Simple"
      ],
      "metadata": {
        "id": "6Pdo3L4Z8-VG"
      }
    },
    {
      "cell_type": "code",
      "source": [],
      "metadata": {
        "id": "MBmkSM919Trw"
      },
      "execution_count": null,
      "outputs": []
    },
    {
      "cell_type": "markdown",
      "source": [
        "# Modelo Keras - LSTM"
      ],
      "metadata": {
        "id": "HNVxQtls9CyG"
      }
    },
    {
      "cell_type": "code",
      "source": [],
      "metadata": {
        "id": "Co6i2Pqc9TCh"
      },
      "execution_count": null,
      "outputs": []
    },
    {
      "cell_type": "markdown",
      "source": [
        "# Análisis Hiperparámetros"
      ],
      "metadata": {
        "id": "a97t_ARG9HWw"
      }
    },
    {
      "cell_type": "code",
      "source": [],
      "metadata": {
        "id": "kG-ACkE89SnL"
      },
      "execution_count": null,
      "outputs": []
    },
    {
      "cell_type": "markdown",
      "source": [
        "# Comparación Modelos"
      ],
      "metadata": {
        "id": "KIkO-XCD9Ohh"
      }
    },
    {
      "cell_type": "code",
      "source": [],
      "metadata": {
        "id": "pGHt7a9q9R81"
      },
      "execution_count": null,
      "outputs": []
    }
  ],
  "metadata": {
    "colab": {
      "private_outputs": true,
      "provenance": [],
      "toc_visible": true
    },
    "kernelspec": {
      "display_name": "Python 3",
      "name": "python3"
    },
    "language_info": {
      "name": "python"
    }
  },
  "nbformat": 4,
  "nbformat_minor": 0
}