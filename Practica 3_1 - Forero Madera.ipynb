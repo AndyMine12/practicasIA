{
  "cells": [
    {
      "cell_type": "markdown",
      "source": [
        "# Importación de Librerías"
      ],
      "metadata": {
        "id": "QbrsyMTz9-JK"
      }
    },
    {
      "cell_type": "code",
      "source": [
        "import numpy as np\n",
        "import pandas as pd\n",
        "import seaborn"
      ],
      "metadata": {
        "id": "H7eRAXp9-Jnj"
      },
      "execution_count": null,
      "outputs": []
    },
    {
      "cell_type": "markdown",
      "source": [
        "# Carga y Visualización de Datos\n"
      ],
      "metadata": {
        "id": "F0fdtan580er"
      }
    },
    {
      "cell_type": "code",
      "source": [
        "# NOTE. Remember to load CSV onto Colab environment\n",
        "daily_dataframe = pd.read_csv('SN_d_tot_V2.0.csv', sep=\";\")\n",
        "monthly_dataframe = pd.read_csv('SN_m_tot_V2.0.csv', sep=\";\")\n",
        "smooth_dataframe = pd.read_csv('SN_ms_tot_V2.0.csv', sep=\";\")"
      ],
      "metadata": {
        "id": "lq8nVxnb84sQ"
      },
      "execution_count": null,
      "outputs": []
    },
    {
      "cell_type": "code",
      "source": [
        "# Describe data\n",
        "print(\"DAILY\")\n",
        "daily_dataframe.info()\n",
        "print(\"\\n\\nMONTHLY\")\n",
        "monthly_dataframe.info()\n",
        "print(\"\\n\\nSMOOTH MONTHLY\")\n",
        "smooth_dataframe.info()"
      ],
      "metadata": {
        "id": "Q8HJpAhC_3Do"
      },
      "execution_count": null,
      "outputs": []
    },
    {
      "cell_type": "code",
      "source": [
        "# Graph data\n",
        "graph_dict:dict = {\"Year\":[], \"Month\":[], \"Fraction\":[], \"Sunspots\":[], \"Deviation\":[], \"Measures\":[], \"Indicator\":[], \"Type\":[]}\n",
        "types = [\"Monthly (Raw)\", \"Monthly (Smooth)\"]\n",
        "for index, row in daily_dataframe.iterrows():\n",
        "  graph_dict[\"Year\"].append(row[\"Year\"])\n",
        "  graph_dict[\"Month\"].append(row[\"Month\"])\n",
        "  graph_dict[\"Fraction\"].append(row[\"Fraction\"])\n",
        "  graph_dict[\"Sunspots\"].append(row[\"Sunspots\"])\n",
        "  graph_dict[\"Deviation\"].append(row[\"Deviation\"])\n",
        "  graph_dict[\"Measures\"].append(row[\"Measures\"])\n",
        "  graph_dict[\"Indicator\"].append(row[\"Indicator\"])\n",
        "  graph_dict[\"Type\"].append(\"Daily\")\n",
        "for frame_tuple in zip(monthly_dataframe.iterrows(),smooth_dataframe.iterrows()):\n",
        "  zip_row = []\n",
        "  zip_row.append(frame_tuple[0][1])\n",
        "  zip_row.append(frame_tuple[1][1])\n",
        "  for item in zip(types,zip_row):\n",
        "    graph_dict[\"Year\"].append(item[1][\"Year\"])\n",
        "    graph_dict[\"Month\"].append(item[1][\"Month\"])\n",
        "    graph_dict[\"Fraction\"].append(item[1][\"Fraction\"])\n",
        "    graph_dict[\"Sunspots\"].append(item[1][\"Sunspots\"])\n",
        "    graph_dict[\"Deviation\"].append(item[1][\"Deviation\"])\n",
        "    graph_dict[\"Measures\"].append(item[1][\"Measures\"])\n",
        "    graph_dict[\"Indicator\"].append(item[1][\"Indicator\"])\n",
        "    graph_dict[\"Type\"].append(item[0])\n",
        "graph_dataframe = pd.DataFrame(graph_dict)\n",
        "seaborn.lineplot(data=graph_dataframe,x=\"Fraction\",y=\"Sunspots\", hue=\"Type\", palette=[\"#000088\",\"#99FF00\",\"#FF0000\"])"
      ],
      "metadata": {
        "id": "jwM5r1BHE1cp"
      },
      "execution_count": null,
      "outputs": []
    },
    {
      "cell_type": "code",
      "source": [
        "# Graph only after 1900's, and before Jan 2024\n",
        "partial_graph_dataframe = graph_dataframe[graph_dataframe.Fraction > 1900]\n",
        "partial_graph_dataframe = partial_graph_dataframe[partial_graph_dataframe.Fraction <= 2024]\n",
        "seaborn.lineplot(data=partial_graph_dataframe,x=\"Fraction\",y=\"Sunspots\", hue=\"Type\", palette=[\"#000088\",\"#99FF00\",\"#FF0000\"])"
      ],
      "metadata": {
        "id": "w3pw8arYKf3H"
      },
      "execution_count": null,
      "outputs": []
    },
    {
      "cell_type": "markdown",
      "source": [
        "# Reformando la data"
      ],
      "metadata": {
        "id": "tMQxyi_dKEVG"
      }
    },
    {
      "cell_type": "code",
      "source": [
        "data_array = smooth_dataframe.to_numpy()"
      ],
      "metadata": {
        "id": "42RBdRXgKRt6"
      },
      "execution_count": null,
      "outputs": []
    },
    {
      "cell_type": "markdown",
      "source": [
        "# Modelo Keras - Recurrente Simple"
      ],
      "metadata": {
        "id": "6Pdo3L4Z8-VG"
      }
    },
    {
      "cell_type": "code",
      "source": [
        "import keras as kr\n",
        "from keras.models import Sequential\n",
        "from keras.layers import SimpleRNN, Dense"
      ],
      "metadata": {
        "id": "MBmkSM919Trw"
      },
      "execution_count": null,
      "outputs": []
    },
    {
      "cell_type": "code",
      "source": [
        "time_steps = 12\n",
        "\n",
        "model = Sequential()\n",
        "model.add(SimpleRNN(units= 3, input_shape= (time_steps, 1), activation= \"tanh\"))\n",
        "model.add(Dense(units= 1, activation= \"tanh\"))\n",
        "\n",
        "model.compile(loss= \"mean_squared_error\", optimizer= \"adam\")"
      ],
      "metadata": {
        "id": "bBQZCSHpFrV_"
      },
      "execution_count": null,
      "outputs": []
    },
    {
      "cell_type": "markdown",
      "source": [
        "# Modelo Keras - LSTM"
      ],
      "metadata": {
        "id": "HNVxQtls9CyG"
      }
    },
    {
      "cell_type": "markdown",
      "source": [
        "## Reformatear los datos"
      ],
      "metadata": {
        "id": "VREiguFsoqrY"
      }
    },
    {
      "cell_type": "code",
      "source": [
        "def to_train_data(df:pd.DataFrame, time_steps:int = 12) -> tuple[np.ndarray, np.ndarray]:\n",
        "  data_multilist: list[list[float]] = []\n",
        "  tag_list: list[float] = []\n",
        "  current: list[float] = []\n",
        "  for index, row in df.iterrows():\n",
        "    if len(current) == time_steps:\n",
        "      tag_list.append(row[\"Sunspots\"])\n",
        "      data_multilist.append(current)\n",
        "      current = current[1:] #Remove first element\n",
        "    current.append(row[\"Sunspots\"])\n",
        "  return np.array(data_multilist), np.array(tag_list)\n",
        "\n",
        "LSTM_train_data, LSTM_train_tags = to_train_data(smooth_dataframe)\n",
        "for index, zip_item in enumerate(zip(LSTM_train_data, LSTM_train_tags)):\n",
        "  dataiter, tagiter = zip_item\n",
        "  print(index, \" --> \", dataiter, \"||\", tagiter)\n",
        "  if index >= 20:\n",
        "    break"
      ],
      "metadata": {
        "id": "Co6i2Pqc9TCh"
      },
      "execution_count": null,
      "outputs": []
    },
    {
      "cell_type": "markdown",
      "source": [
        "# Análisis Hiperparámetros"
      ],
      "metadata": {
        "id": "a97t_ARG9HWw"
      }
    },
    {
      "cell_type": "code",
      "source": [],
      "metadata": {
        "id": "kG-ACkE89SnL"
      },
      "execution_count": null,
      "outputs": []
    },
    {
      "cell_type": "markdown",
      "source": [
        "# Comparación Modelos"
      ],
      "metadata": {
        "id": "KIkO-XCD9Ohh"
      }
    },
    {
      "cell_type": "code",
      "source": [],
      "metadata": {
        "id": "pGHt7a9q9R81"
      },
      "execution_count": null,
      "outputs": []
    }
  ],
  "metadata": {
    "colab": {
      "private_outputs": true,
      "provenance": []
    },
    "kernelspec": {
      "display_name": "Python 3",
      "name": "python3"
    },
    "language_info": {
      "name": "python"
    }
  },
  "nbformat": 4,
  "nbformat_minor": 0
}