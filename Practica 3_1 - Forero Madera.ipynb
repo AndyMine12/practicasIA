{
  "cells": [
    {
      "cell_type": "code",
      "execution_count": null,
      "metadata": {
        "id": "0rnPH0AD7EDB"
      },
      "outputs": [],
      "source": [
        "\"Hello world\""
      ]
    }
  ],
  "metadata": {
    "colab": {
      "authorship_tag": "ABX9TyNXMFzSFcIM4L1nA7GWwdID",
      "private_outputs": true,
      "provenance": []
    },
    "kernelspec": {
      "display_name": "Python 3",
      "name": "python3"
    },
    "language_info": {
      "name": "python"
    }
  },
  "nbformat": 4,
  "nbformat_minor": 0
}
