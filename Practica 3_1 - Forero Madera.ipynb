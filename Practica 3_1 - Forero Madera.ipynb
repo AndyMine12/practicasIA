{
  "cells": [
    {
      "cell_type": "markdown",
      "source": [
        "# Importación de Librerías"
      ],
      "metadata": {
        "id": "QbrsyMTz9-JK"
      }
    },
    {
      "cell_type": "code",
      "source": [
        "import numpy as np\n",
        "import pandas as pd\n",
        "import seaborn"
      ],
      "metadata": {
        "id": "H7eRAXp9-Jnj"
      },
      "execution_count": null,
      "outputs": []
    },
    {
      "cell_type": "markdown",
      "source": [
        "# Carga y Visualización de Datos\n"
      ],
      "metadata": {
        "id": "F0fdtan580er"
      }
    },
    {
      "cell_type": "code",
      "source": [
        "# NOTE. Remember to load CSV onto Colab environment\n",
        "daily_dataframe = pd.read_csv('SN_d_tot_V2.0.csv', sep=\";\")\n",
        "monthly_dataframe = pd.read_csv('SN_m_tot_V2.0.csv', sep=\";\")\n",
        "smooth_dataframe = pd.read_csv('SN_ms_tot_V2.0.csv', sep=\";\")"
      ],
      "metadata": {
        "id": "lq8nVxnb84sQ"
      },
      "execution_count": null,
      "outputs": []
    },
    {
      "cell_type": "code",
      "source": [
        "# Describe data\n",
        "print(\"DAILY\")\n",
        "daily_dataframe.info()\n",
        "print(\"\\n\\nMONTHLY\")\n",
        "monthly_dataframe.info()\n",
        "print(\"\\n\\nSMOOTH MONTHLY\")\n",
        "smooth_dataframe.info()"
      ],
      "metadata": {
        "id": "Q8HJpAhC_3Do"
      },
      "execution_count": null,
      "outputs": []
    },
    {
      "cell_type": "code",
      "source": [
        "# Graph data\n"
      ],
      "metadata": {
        "id": "jwM5r1BHE1cp"
      },
      "execution_count": null,
      "outputs": []
    },
    {
      "cell_type": "markdown",
      "source": [
        "# Reformando la data"
      ],
      "metadata": {
        "id": "tMQxyi_dKEVG"
      }
    },
    {
      "cell_type": "code",
      "source": [
        "data_array = smooth_dataframe.to_numpy()"
      ],
      "metadata": {
        "id": "42RBdRXgKRt6"
      },
      "execution_count": null,
      "outputs": []
    },
    {
      "cell_type": "markdown",
      "source": [
        "# Modelo Keras - Recurrente Simple"
      ],
      "metadata": {
        "id": "6Pdo3L4Z8-VG"
      }
    },
    {
      "cell_type": "code",
      "source": [
        "import keras as kr\n",
        "from kr.models import Sequential\n",
        "from kr.layers import SimpleRNN, Dense"
      ],
      "metadata": {
        "id": "MBmkSM919Trw"
      },
      "execution_count": null,
      "outputs": []
    },
    {
      "cell_type": "code",
      "source": [
        "time_steps = 12\n",
        "\n",
        "model = Sequential()\n",
        "model.add(SimpleRNN(units= 3, input_shape= (time_steps, 1), activation= \"tanh\"))\n",
        "model.add(Dense(units= 1, activation= \"tanh\"))\n",
        "\n",
        "model.compile(loss= \"mean_squared_error\", optimizer= \"adam\")"
      ],
      "metadata": {
        "id": "bBQZCSHpFrV_"
      },
      "execution_count": null,
      "outputs": []
    },
    {
      "cell_type": "markdown",
      "source": [
        "# Modelo Keras - LSTM"
      ],
      "metadata": {
        "id": "HNVxQtls9CyG"
      }
    },
    {
      "cell_type": "code",
      "source": [],
      "metadata": {
        "id": "Co6i2Pqc9TCh"
      },
      "execution_count": null,
      "outputs": []
    },
    {
      "cell_type": "markdown",
      "source": [
        "# Análisis Hiperparámetros"
      ],
      "metadata": {
        "id": "a97t_ARG9HWw"
      }
    },
    {
      "cell_type": "code",
      "source": [],
      "metadata": {
        "id": "kG-ACkE89SnL"
      },
      "execution_count": null,
      "outputs": []
    },
    {
      "cell_type": "markdown",
      "source": [
        "# Comparación Modelos"
      ],
      "metadata": {
        "id": "KIkO-XCD9Ohh"
      }
    },
    {
      "cell_type": "code",
      "source": [],
      "metadata": {
        "id": "pGHt7a9q9R81"
      },
      "execution_count": null,
      "outputs": []
    }
  ],
  "metadata": {
    "colab": {
      "private_outputs": true,
      "provenance": []
    },
    "kernelspec": {
      "display_name": "Python 3",
      "name": "python3"
    },
    "language_info": {
      "name": "python"
    }
  },
  "nbformat": 4,
  "nbformat_minor": 0
}