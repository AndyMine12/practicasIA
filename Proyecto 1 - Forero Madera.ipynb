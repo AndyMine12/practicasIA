{
  "cells": [
    {
      "cell_type": "markdown",
      "metadata": {
        "id": "jZGudLGXJAkG"
      },
      "source": [
        "# Red Neuronal para Clasificación no Lineal"
      ]
    },
    {
      "cell_type": "code",
      "execution_count": 2,
      "metadata": {
        "id": "FHyvnjYaJAkH"
      },
      "outputs": [],
      "source": [
        "import numpy as np\n",
        "import matplotlib.pyplot as plt\n",
        "import random\n",
        "\n",
        "%matplotlib inline"
      ]
    },
    {
      "cell_type": "markdown",
      "metadata": {
        "id": "OxIifSyEJAkI"
      },
      "source": [
        "Cree los datos de entrada y sus etiquetas:"
      ]
    },
    {
      "cell_type": "code",
      "execution_count": 41,
      "metadata": {
        "id": "cn2rarW_JAkI"
      },
      "outputs": [],
      "source": [
        "#Generate entry data via function\n",
        "def get_data(xo:float = 1.2, yo:float = 0.3, quantity:int = 1000, a:float = 1.4, b:float = 0.3) -> list[tuple[tuple[float,float],float]]:\n",
        "  prevTuple:tuple[float,float] = (xo, yo)\n",
        "  data:list[tuple[tuple[float,float],float]] = []\n",
        "  for i in range(quantity):\n",
        "    next_x:float = 1 - a*np.power(prevTuple[0],2) + prevTuple[1]\n",
        "    next_y:float = b*prevTuple[0]\n",
        "    data.append( (prevTuple, next_x) ) #Create pairs {(xn, yn), xn+1}\n",
        "    prevTuple = (next_x, next_y)\n",
        "  return data\n",
        "\n",
        "#Generate and split data\n",
        "full_data = get_data()\n",
        "random.shuffle(full_data)\n",
        "separator = round(len(full_data)*0.7)\n",
        "train_data = full_data[:separator] #Obtener los primeros elementos (~70% de data)\n",
        "validation_data = full_data[separator:] #Obtener el resto (~30% de data)\n",
        "\n",
        "#Assign training data and their tags\n",
        "X = [data[0] for data in train_data]\n",
        "y = [data[1] for data in train_data]"
      ]
    },
    {
      "cell_type": "markdown",
      "metadata": {
        "id": "LjEl_O9LJAkI"
      },
      "source": [
        "Para una red neuronal con dos neuronas en la capa de entrada, tres en la capa escondidad y una en la salida, inicialize los pesos y sesgos:\n",
        "\n",
        "NOTA. El enunciado solicita 2/2/1, aunque aqui indica 2/3/1"
      ]
    },
    {
      "cell_type": "code",
      "execution_count": null,
      "metadata": {
        "id": "Hto2hDMIJAkI"
      },
      "outputs": [],
      "source": [
        "w1 = 2 * np.random.random(size=(2,3)) - 1\n",
        "w2 = 2 * np.random.random(size=(3,1)) - 1\n",
        "b1 = 2 * np.random.random(size=(1,3)) - 1\n",
        "b2 = 2 * np.random.random(size=(1,1)) - 1\n",
        "eta=0.1"
      ]
    },
    {
      "cell_type": "markdown",
      "metadata": {
        "id": "NoI6Nqd_JAkI"
      },
      "source": [
        "Defina la función de activación y su derivada:"
      ]
    },
    {
      "cell_type": "code",
      "execution_count": null,
      "metadata": {
        "id": "mPtfxalJJAkI"
      },
      "outputs": [],
      "source": [
        "def sigmoid(x):\n",
        "    # Definicion de la función sigmoide\n",
        "\n",
        "def dsigmoid(y):\n",
        "    # Definicion de la derivada de la función sigmoide\n"
      ]
    },
    {
      "cell_type": "markdown",
      "metadata": {
        "id": "oabNCxveJAkJ"
      },
      "source": [
        "## Forward pass"
      ]
    },
    {
      "cell_type": "code",
      "execution_count": null,
      "metadata": {
        "id": "B0RAAKGiJAkJ"
      },
      "outputs": [],
      "source": []
    },
    {
      "cell_type": "markdown",
      "metadata": {
        "id": "xIMCJTWbJAkJ"
      },
      "source": [
        "## Backward pass"
      ]
    },
    {
      "cell_type": "markdown",
      "metadata": {
        "id": "hsHaU6Y9JAkJ"
      },
      "source": [
        "Implemente las derivadas del error respecto a los parámetros w y b:"
      ]
    },
    {
      "cell_type": "code",
      "execution_count": null,
      "metadata": {
        "id": "zLiwBDRnJAkJ"
      },
      "outputs": [],
      "source": []
    },
    {
      "cell_type": "markdown",
      "metadata": {
        "id": "MYbXvg5KJAkJ"
      },
      "source": [
        "Implemente la correción de los parámetros:"
      ]
    },
    {
      "cell_type": "code",
      "execution_count": null,
      "metadata": {
        "id": "kjwsLQ5bJAkJ"
      },
      "outputs": [],
      "source": []
    },
    {
      "cell_type": "markdown",
      "metadata": {
        "id": "2lDjldVeJAkJ"
      },
      "source": [
        "## Entrenamiento de la red neuronal"
      ]
    },
    {
      "cell_type": "markdown",
      "metadata": {
        "id": "j7aErHd4JAkJ"
      },
      "source": [
        "Use el esquema de \"Retropropagación\" para entrenar la red."
      ]
    },
    {
      "cell_type": "code",
      "execution_count": null,
      "metadata": {
        "id": "vOW3d27xJAkJ"
      },
      "outputs": [],
      "source": [
        "# Implementación de la retropropagación"
      ]
    },
    {
      "cell_type": "markdown",
      "metadata": {
        "id": "sLPHrJRUJAkK"
      },
      "source": [
        "Valide del entrenamiento. Con una gráfica del error en funcion de las épocas."
      ]
    },
    {
      "cell_type": "code",
      "execution_count": null,
      "metadata": {
        "id": "RN0__w_eJAkK"
      },
      "outputs": [],
      "source": [
        "# Gráfica Error vs. Épocas"
      ]
    },
    {
      "cell_type": "code",
      "execution_count": null,
      "metadata": {
        "id": "qUZIxE6MJAkK"
      },
      "outputs": [],
      "source": []
    }
  ],
  "metadata": {
    "kernelspec": {
      "display_name": "Python 3",
      "language": "python",
      "name": "python3"
    },
    "language_info": {
      "codemirror_mode": {
        "name": "ipython",
        "version": 3
      },
      "file_extension": ".py",
      "mimetype": "text/x-python",
      "name": "python",
      "nbconvert_exporter": "python",
      "pygments_lexer": "ipython3",
      "version": "3.6.10"
    },
    "colab": {
      "provenance": []
    }
  },
  "nbformat": 4,
  "nbformat_minor": 0
}