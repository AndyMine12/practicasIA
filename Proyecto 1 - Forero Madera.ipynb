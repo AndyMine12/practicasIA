{
  "cells": [
    {
      "cell_type": "markdown",
      "metadata": {
        "id": "jZGudLGXJAkG"
      },
      "source": [
        "# Red Neuronal para Clasificación no Lineal"
      ]
    },
    {
      "cell_type": "code",
      "source": [
        "!pip install ipympl"
      ],
      "metadata": {
        "collapsed": true,
        "id": "gNgs2DwYSclN"
      },
      "execution_count": null,
      "outputs": []
    },
    {
      "cell_type": "code",
      "execution_count": 3,
      "metadata": {
        "id": "FHyvnjYaJAkH"
      },
      "outputs": [],
      "source": [
        "import numpy as np\n",
        "import matplotlib.pyplot as plt\n",
        "import random\n",
        "import math\n",
        "from _collections_abc import Callable\n",
        "from google.colab import output\n",
        "\n",
        "%matplotlib inline\n",
        "%matplotlib widget\n",
        "output.enable_custom_widget_manager()"
      ]
    },
    {
      "cell_type": "markdown",
      "metadata": {
        "id": "OxIifSyEJAkI"
      },
      "source": [
        "Cree los datos de entrada y sus etiquetas:"
      ]
    },
    {
      "cell_type": "code",
      "execution_count": 4,
      "metadata": {
        "id": "cn2rarW_JAkI"
      },
      "outputs": [],
      "source": [
        "#Generate entry data via function\n",
        "def get_data(xo:float = 1.2, yo:float = 0.3, quantity:int = 5000, a:float = 1.4, b:float = 0.3) -> list[tuple[tuple[float,float],float]]:\n",
        "  prevTuple:tuple[float,float] = (xo, yo)\n",
        "  data:list[tuple[tuple[float,float],float]] = []\n",
        "  for i in range(quantity):\n",
        "    next_x:float = 1 - a*np.power(prevTuple[0],2) + prevTuple[1]\n",
        "    next_y:float = b*prevTuple[0]\n",
        "    data.append( (prevTuple, next_x) ) #Create pairs {(xn, yn), xn+1}\n",
        "    prevTuple = (next_x, next_y)\n",
        "  return data\n",
        "\n",
        "#Generate and split data\n",
        "full_data = get_data()\n",
        "random.shuffle(full_data)\n",
        "separator = round(len(full_data)*0.7)\n",
        "train_data = full_data[:separator] #Obtener los primeros elementos (~70% de data)\n",
        "validation_data = full_data[separator:] #Obtener el resto (~30% de data)\n",
        "\n",
        "#Assign training data and their tags\n",
        "X = [data[0] for data in train_data]\n",
        "y = [data[1] for data in train_data]"
      ]
    },
    {
      "cell_type": "markdown",
      "metadata": {
        "id": "LjEl_O9LJAkI"
      },
      "source": [
        "Para una red neuronal con dos neuronas en la capa de entrada, dos en la capa escondida y una en la salida, inicialize los pesos y sesgos:"
      ]
    },
    {
      "cell_type": "code",
      "execution_count": 5,
      "metadata": {
        "id": "Hto2hDMIJAkI"
      },
      "outputs": [],
      "source": [
        "w1 = [2 * random.random() - 1, 2 * random.random() - 1]\n",
        "w2 = [2 * random.random() - 1, 2 * random.random() - 1]\n",
        "w3 = [2 * random.random() - 1, 2 * random.random() - 1]\n",
        "\n",
        "b1 = 2 * random.random() - 1\n",
        "b2 = 2 * random.random() - 1\n",
        "b3 = 2 * random.random() - 1\n",
        "\n",
        "eta = 0.1"
      ]
    },
    {
      "cell_type": "markdown",
      "metadata": {
        "id": "NoI6Nqd_JAkI"
      },
      "source": [
        "Defina la función de activación y su derivada:"
      ]
    },
    {
      "cell_type": "code",
      "execution_count": 6,
      "metadata": {
        "id": "mPtfxalJJAkI"
      },
      "outputs": [],
      "source": [
        "def sigmoid(x):\n",
        "    # Definicion de la función sigmoide\n",
        "    return 1/(1 + math.exp(-x))\n",
        "\n",
        "def dsigmoid(y): #Entrada: y = sigmoid(x)\n",
        "    # Definicion de la derivada de la función sigmoide\n",
        "    return y*(1 - y)\n"
      ]
    },
    {
      "cell_type": "markdown",
      "metadata": {
        "id": "oabNCxveJAkJ"
      },
      "source": [
        "## Forward pass"
      ]
    },
    {
      "cell_type": "code",
      "execution_count": 7,
      "metadata": {
        "id": "B0RAAKGiJAkJ"
      },
      "outputs": [],
      "source": [
        "def forward_step(inputs: list[float], weights: list[float], bias: float, activation_func: Callable[[float], float]) -> tuple[float, float]:\n",
        "  y_predict = np.dot(inputs, weights) + bias\n",
        "\n",
        "  return (activation_func(y_predict), y_predict)"
      ]
    },
    {
      "cell_type": "markdown",
      "metadata": {
        "id": "xIMCJTWbJAkJ"
      },
      "source": [
        "## Backward pass"
      ]
    },
    {
      "cell_type": "markdown",
      "metadata": {
        "id": "hsHaU6Y9JAkJ"
      },
      "source": [
        "Implemente las derivadas del error respecto a los parámetros w y b:"
      ]
    },
    {
      "cell_type": "code",
      "execution_count": 8,
      "metadata": {
        "id": "zLiwBDRnJAkJ"
      },
      "outputs": [],
      "source": [
        "#Returns list as follows: w11, w12, w21, w22, w31, w32, b1, b2, b3\n",
        "#To-do make derivative of activation an injectable parameter instead of fixed\n",
        "def get_derivatives(X:tuple[float, float], y:float, y_pred:float, Z:tuple[float,float,float], A:tuple[float,float]) -> list[float]:\n",
        "  global w1, w2, w3, b1, b2, b3\n",
        "  dE_w31 = (-1)*(y - y_pred)*(y_pred)*(1 - y_pred)*A[0]\n",
        "  dE_w32 = (-1)*(y - y_pred)*(y_pred)*(1 - y_pred)*A[1]\n",
        "  dE_b3 = (-1)*(y - y_pred)*(y_pred)*(1 - y_pred)*1\n",
        "  dE_w21 = ( (-1)*(y - y_pred)*(y_pred)*(1 - y_pred) ) * (w3[1]) * dsigmoid(Z[1]) * X[0]\n",
        "  dE_w22 = ( (-1)*(y - y_pred)*(y_pred)*(1 - y_pred) ) * (w3[1]) * dsigmoid(Z[1]) * X[1]\n",
        "  dE_b2 = ( (-1)*(y - y_pred)*(y_pred)*(1 - y_pred) ) * (w3[1]) * dsigmoid(Z[1]) * 1\n",
        "  dE_w11 = ( (-1)*(y - y_pred)*(y_pred)*(1 - y_pred) ) * (w3[0]) * dsigmoid(Z[0]) * X[0]\n",
        "  dE_w12 = ( (-1)*(y - y_pred)*(y_pred)*(1 - y_pred) ) * (w3[0]) * dsigmoid(Z[0]) * X[1]\n",
        "  dE_b1 = ( (-1)*(y - y_pred)*(y_pred)*(1 - y_pred) ) * (w3[0]) * dsigmoid(Z[0]) * 1\n",
        "  result = [dE_w11, dE_w12, dE_w21, dE_w22, dE_w31, dE_w32, dE_b1, dE_b2, dE_b3]\n",
        "  return result\n"
      ]
    },
    {
      "cell_type": "markdown",
      "metadata": {
        "id": "MYbXvg5KJAkJ"
      },
      "source": [
        "Implemente la correción de los parámetros:"
      ]
    },
    {
      "cell_type": "code",
      "execution_count": 9,
      "metadata": {
        "id": "kjwsLQ5bJAkJ"
      },
      "outputs": [],
      "source": [
        "#NOTE. This will modify global weights and biases according to last forward pass\n",
        "def backward_pass(error:float, learn_rate:float, input:list[float], y:float, y_pred:float, Z:tuple[float,float,float], A:tuple[float,float]):\n",
        "  global w1, w2, w3, b1, b2, b3\n",
        "  derivatives = get_derivatives(tuple(input), y, y_pred, Z, A)\n",
        "  w1 = (w1[0] - learn_rate * derivatives[0], w1[1] - learn_rate * derivatives[1])\n",
        "  w2 = (w2[0] - learn_rate * derivatives[2], w2[1] - learn_rate * derivatives[3])\n",
        "  w3 = (w3[0] - learn_rate * derivatives[4], w3[1] - learn_rate * derivatives[5])\n",
        "  b1 = b1 - learn_rate * derivatives[6]\n",
        "  b2 = b2 - learn_rate * derivatives[7]\n",
        "  b3 = b3 - learn_rate * derivatives[8]"
      ]
    },
    {
      "cell_type": "markdown",
      "metadata": {
        "id": "2lDjldVeJAkJ"
      },
      "source": [
        "## Entrenamiento de la red neuronal"
      ]
    },
    {
      "cell_type": "markdown",
      "metadata": {
        "id": "j7aErHd4JAkJ"
      },
      "source": [
        "Use el esquema de \"Retropropagación\" para entrenar la red."
      ]
    },
    {
      "cell_type": "code",
      "execution_count": 10,
      "metadata": {
        "id": "vOW3d27xJAkJ"
      },
      "outputs": [],
      "source": [
        "# Implementación de la retropropagación"
      ]
    },
    {
      "cell_type": "markdown",
      "metadata": {
        "id": "sLPHrJRUJAkK"
      },
      "source": [
        "Valide del entrenamiento. Con una gráfica del error en funcion de las épocas."
      ]
    },
    {
      "cell_type": "code",
      "execution_count": null,
      "metadata": {
        "id": "RN0__w_eJAkK",
        "collapsed": true
      },
      "outputs": [],
      "source": [
        "# Gráfica Error vs. Épocas\n",
        "validation_x: list[float] = []\n",
        "validation_y: list[float] = []\n",
        "validation_labels: list[float] = []\n",
        "for i in range(0, len(validation_data)):\n",
        "  validation_x.append(validation_data[i][0][0])\n",
        "  validation_y.append(validation_data[i][0][1])\n",
        "  validation_labels.append(validation_data[i][1])\n",
        "\n",
        "grafica = plt.figure().add_subplot(projection = \"3d\")\n",
        "grafica.scatter(validation_x, validation_y, validation_labels, color = \"blue\")\n",
        "plt.show()"
      ]
    },
    {
      "cell_type": "markdown",
      "source": [
        "## Probando con Keras"
      ],
      "metadata": {
        "id": "DKhchHrpVUo9"
      }
    },
    {
      "cell_type": "code",
      "execution_count": 32,
      "metadata": {
        "id": "qUZIxE6MJAkK",
        "colab": {
          "base_uri": "https://localhost:8080/",
          "height": 647
        },
        "outputId": "ba7d01e1-e3b3-4fbc-a985-0175b3351264"
      },
      "outputs": [
        {
          "output_type": "display_data",
          "data": {
            "text/plain": [
              "\u001b[1mModel: \"sequential_20\"\u001b[0m\n"
            ],
            "text/html": [
              "<pre style=\"white-space:pre;overflow-x:auto;line-height:normal;font-family:Menlo,'DejaVu Sans Mono',consolas,'Courier New',monospace\"><span style=\"font-weight: bold\">Model: \"sequential_20\"</span>\n",
              "</pre>\n"
            ]
          },
          "metadata": {}
        },
        {
          "output_type": "display_data",
          "data": {
            "text/plain": [
              "┏━━━━━━━━━━━━━━━━━━━━━━━━━━━━━━━━━━━━━━┳━━━━━━━━━━━━━━━━━━━━━━━━━━━━━┳━━━━━━━━━━━━━━━━━┓\n",
              "┃\u001b[1m \u001b[0m\u001b[1mLayer (type)                        \u001b[0m\u001b[1m \u001b[0m┃\u001b[1m \u001b[0m\u001b[1mOutput Shape               \u001b[0m\u001b[1m \u001b[0m┃\u001b[1m \u001b[0m\u001b[1m        Param #\u001b[0m\u001b[1m \u001b[0m┃\n",
              "┡━━━━━━━━━━━━━━━━━━━━━━━━━━━━━━━━━━━━━━╇━━━━━━━━━━━━━━━━━━━━━━━━━━━━━╇━━━━━━━━━━━━━━━━━┩\n",
              "│ dense_36 (\u001b[38;5;33mDense\u001b[0m)                     │ (\u001b[38;5;45mNone\u001b[0m, \u001b[38;5;34m2\u001b[0m)                   │               \u001b[38;5;34m6\u001b[0m │\n",
              "├──────────────────────────────────────┼─────────────────────────────┼─────────────────┤\n",
              "│ dense_37 (\u001b[38;5;33mDense\u001b[0m)                     │ (\u001b[38;5;45mNone\u001b[0m, \u001b[38;5;34m1\u001b[0m)                   │               \u001b[38;5;34m3\u001b[0m │\n",
              "└──────────────────────────────────────┴─────────────────────────────┴─────────────────┘\n"
            ],
            "text/html": [
              "<pre style=\"white-space:pre;overflow-x:auto;line-height:normal;font-family:Menlo,'DejaVu Sans Mono',consolas,'Courier New',monospace\">┏━━━━━━━━━━━━━━━━━━━━━━━━━━━━━━━━━━━━━━┳━━━━━━━━━━━━━━━━━━━━━━━━━━━━━┳━━━━━━━━━━━━━━━━━┓\n",
              "┃<span style=\"font-weight: bold\"> Layer (type)                         </span>┃<span style=\"font-weight: bold\"> Output Shape                </span>┃<span style=\"font-weight: bold\">         Param # </span>┃\n",
              "┡━━━━━━━━━━━━━━━━━━━━━━━━━━━━━━━━━━━━━━╇━━━━━━━━━━━━━━━━━━━━━━━━━━━━━╇━━━━━━━━━━━━━━━━━┩\n",
              "│ dense_36 (<span style=\"color: #0087ff; text-decoration-color: #0087ff\">Dense</span>)                     │ (<span style=\"color: #00d7ff; text-decoration-color: #00d7ff\">None</span>, <span style=\"color: #00af00; text-decoration-color: #00af00\">2</span>)                   │               <span style=\"color: #00af00; text-decoration-color: #00af00\">6</span> │\n",
              "├──────────────────────────────────────┼─────────────────────────────┼─────────────────┤\n",
              "│ dense_37 (<span style=\"color: #0087ff; text-decoration-color: #0087ff\">Dense</span>)                     │ (<span style=\"color: #00d7ff; text-decoration-color: #00d7ff\">None</span>, <span style=\"color: #00af00; text-decoration-color: #00af00\">1</span>)                   │               <span style=\"color: #00af00; text-decoration-color: #00af00\">3</span> │\n",
              "└──────────────────────────────────────┴─────────────────────────────┴─────────────────┘\n",
              "</pre>\n"
            ]
          },
          "metadata": {}
        },
        {
          "output_type": "display_data",
          "data": {
            "text/plain": [
              "\u001b[1m Total params: \u001b[0m\u001b[38;5;34m9\u001b[0m (36.00 B)\n"
            ],
            "text/html": [
              "<pre style=\"white-space:pre;overflow-x:auto;line-height:normal;font-family:Menlo,'DejaVu Sans Mono',consolas,'Courier New',monospace\"><span style=\"font-weight: bold\"> Total params: </span><span style=\"color: #00af00; text-decoration-color: #00af00\">9</span> (36.00 B)\n",
              "</pre>\n"
            ]
          },
          "metadata": {}
        },
        {
          "output_type": "display_data",
          "data": {
            "text/plain": [
              "\u001b[1m Trainable params: \u001b[0m\u001b[38;5;34m9\u001b[0m (36.00 B)\n"
            ],
            "text/html": [
              "<pre style=\"white-space:pre;overflow-x:auto;line-height:normal;font-family:Menlo,'DejaVu Sans Mono',consolas,'Courier New',monospace\"><span style=\"font-weight: bold\"> Trainable params: </span><span style=\"color: #00af00; text-decoration-color: #00af00\">9</span> (36.00 B)\n",
              "</pre>\n"
            ]
          },
          "metadata": {}
        },
        {
          "output_type": "display_data",
          "data": {
            "text/plain": [
              "\u001b[1m Non-trainable params: \u001b[0m\u001b[38;5;34m0\u001b[0m (0.00 B)\n"
            ],
            "text/html": [
              "<pre style=\"white-space:pre;overflow-x:auto;line-height:normal;font-family:Menlo,'DejaVu Sans Mono',consolas,'Courier New',monospace\"><span style=\"font-weight: bold\"> Non-trainable params: </span><span style=\"color: #00af00; text-decoration-color: #00af00\">0</span> (0.00 B)\n",
              "</pre>\n"
            ]
          },
          "metadata": {}
        },
        {
          "output_type": "stream",
          "name": "stdout",
          "text": [
            "Epoch 1/500\n"
          ]
        },
        {
          "output_type": "error",
          "ename": "ValueError",
          "evalue": "Exception encountered when calling Sequential.call().\n\n\u001b[1mInvalid input shape for input Tensor(\"data:0\", shape=(None,), dtype=float32). Expected shape (None, 2), but input has incompatible shape (None,)\u001b[0m\n\nArguments received by Sequential.call():\n  • inputs=('tf.Tensor(shape=(None,), dtype=float32)', 'tf.Tensor(shape=(None,), dtype=float32)')\n  • training=True\n  • mask=('None', 'None')",
          "traceback": [
            "\u001b[0;31m---------------------------------------------------------------------------\u001b[0m",
            "\u001b[0;31mValueError\u001b[0m                                Traceback (most recent call last)",
            "\u001b[0;32m<ipython-input-32-256ef56f971a>\u001b[0m in \u001b[0;36m<cell line: 25>\u001b[0;34m()\u001b[0m\n\u001b[1;32m     23\u001b[0m \u001b[0;31m#print(np.array(lst).shape)\u001b[0m\u001b[0;34m\u001b[0m\u001b[0;34m\u001b[0m\u001b[0m\n\u001b[1;32m     24\u001b[0m \u001b[0;31m#arr = np.array(lst)\u001b[0m\u001b[0;34m\u001b[0m\u001b[0;34m\u001b[0m\u001b[0m\n\u001b[0;32m---> 25\u001b[0;31m \u001b[0mmodel\u001b[0m\u001b[0;34m.\u001b[0m\u001b[0mfit\u001b[0m\u001b[0;34m(\u001b[0m\u001b[0mlst\u001b[0m\u001b[0;34m,\u001b[0m \u001b[0mnp\u001b[0m\u001b[0;34m.\u001b[0m\u001b[0marray\u001b[0m\u001b[0;34m(\u001b[0m\u001b[0mtraining_labels\u001b[0m\u001b[0;34m)\u001b[0m\u001b[0;34m,\u001b[0m \u001b[0mepochs\u001b[0m \u001b[0;34m=\u001b[0m \u001b[0;36m500\u001b[0m\u001b[0;34m)\u001b[0m\u001b[0;34m\u001b[0m\u001b[0;34m\u001b[0m\u001b[0m\n\u001b[0m",
            "\u001b[0;32m/usr/local/lib/python3.10/dist-packages/keras/src/utils/traceback_utils.py\u001b[0m in \u001b[0;36merror_handler\u001b[0;34m(*args, **kwargs)\u001b[0m\n\u001b[1;32m    120\u001b[0m             \u001b[0;31m# To get the full stack trace, call:\u001b[0m\u001b[0;34m\u001b[0m\u001b[0;34m\u001b[0m\u001b[0m\n\u001b[1;32m    121\u001b[0m             \u001b[0;31m# `keras.config.disable_traceback_filtering()`\u001b[0m\u001b[0;34m\u001b[0m\u001b[0;34m\u001b[0m\u001b[0m\n\u001b[0;32m--> 122\u001b[0;31m             \u001b[0;32mraise\u001b[0m \u001b[0me\u001b[0m\u001b[0;34m.\u001b[0m\u001b[0mwith_traceback\u001b[0m\u001b[0;34m(\u001b[0m\u001b[0mfiltered_tb\u001b[0m\u001b[0;34m)\u001b[0m \u001b[0;32mfrom\u001b[0m \u001b[0;32mNone\u001b[0m\u001b[0;34m\u001b[0m\u001b[0;34m\u001b[0m\u001b[0m\n\u001b[0m\u001b[1;32m    123\u001b[0m         \u001b[0;32mfinally\u001b[0m\u001b[0;34m:\u001b[0m\u001b[0;34m\u001b[0m\u001b[0;34m\u001b[0m\u001b[0m\n\u001b[1;32m    124\u001b[0m             \u001b[0;32mdel\u001b[0m \u001b[0mfiltered_tb\u001b[0m\u001b[0;34m\u001b[0m\u001b[0;34m\u001b[0m\u001b[0m\n",
            "\u001b[0;32m/usr/local/lib/python3.10/dist-packages/keras/src/models/functional.py\u001b[0m in \u001b[0;36m_adjust_input_rank\u001b[0;34m(self, flat_inputs)\u001b[0m\n\u001b[1;32m    242\u001b[0m                     \u001b[0madjusted\u001b[0m\u001b[0;34m.\u001b[0m\u001b[0mappend\u001b[0m\u001b[0;34m(\u001b[0m\u001b[0mops\u001b[0m\u001b[0;34m.\u001b[0m\u001b[0mexpand_dims\u001b[0m\u001b[0;34m(\u001b[0m\u001b[0mx\u001b[0m\u001b[0;34m,\u001b[0m \u001b[0maxis\u001b[0m\u001b[0;34m=\u001b[0m\u001b[0;34m-\u001b[0m\u001b[0;36m1\u001b[0m\u001b[0;34m)\u001b[0m\u001b[0;34m)\u001b[0m\u001b[0;34m\u001b[0m\u001b[0;34m\u001b[0m\u001b[0m\n\u001b[1;32m    243\u001b[0m                     \u001b[0;32mcontinue\u001b[0m\u001b[0;34m\u001b[0m\u001b[0;34m\u001b[0m\u001b[0m\n\u001b[0;32m--> 244\u001b[0;31m             raise ValueError(\n\u001b[0m\u001b[1;32m    245\u001b[0m                 \u001b[0;34mf\"Invalid input shape for input {x}. Expected shape \"\u001b[0m\u001b[0;34m\u001b[0m\u001b[0;34m\u001b[0m\u001b[0m\n\u001b[1;32m    246\u001b[0m                 \u001b[0;34mf\"{ref_shape}, but input has incompatible shape {x.shape}\"\u001b[0m\u001b[0;34m\u001b[0m\u001b[0;34m\u001b[0m\u001b[0m\n",
            "\u001b[0;31mValueError\u001b[0m: Exception encountered when calling Sequential.call().\n\n\u001b[1mInvalid input shape for input Tensor(\"data:0\", shape=(None,), dtype=float32). Expected shape (None, 2), but input has incompatible shape (None,)\u001b[0m\n\nArguments received by Sequential.call():\n  • inputs=('tf.Tensor(shape=(None,), dtype=float32)', 'tf.Tensor(shape=(None,), dtype=float32)')\n  • training=True\n  • mask=('None', 'None')"
          ]
        }
      ],
      "source": [
        "import tensorflow as tf\n",
        "\n",
        "from tensorflow import keras\n",
        "from tensorflow.keras import layers\n",
        "\n",
        "training_x: list[float] = []\n",
        "training_y: list[float] = []\n",
        "training_labels: list[float] = []\n",
        "\n",
        "for i in range(0, len(train_data)):\n",
        "  training_x.append(train_data[i][0][0])\n",
        "  training_y.append(train_data[i][0][1])\n",
        "  training_labels.append(train_data[i][1])\n",
        "\n",
        "model = keras.Sequential()\n",
        "model.add(layers.Dense(units = 2, activation = \"sigmoid\", input_shape = (2,)))\n",
        "model.add(layers.Dense(units = 1, activation = \"sigmoid\"))\n",
        "#model.add(keras.Input(shape = (2,)))\n",
        "model.build()\n",
        "model.compile()\n",
        "model.summary()\n",
        "lst = [np.array(training_x), np.array(training_y)]\n",
        "#print(np.array(lst).shape)\n",
        "#arr = np.array(lst)\n",
        "model.fit(lst, np.array(training_labels), epochs = 500)\n"
      ]
    },
    {
      "cell_type": "markdown",
      "source": [
        "Support for third party widgets will remain active for the duration of the session. To disable support:"
      ],
      "metadata": {
        "id": "w0Cq1ZF2SuYD"
      }
    },
    {
      "cell_type": "code",
      "source": [
        "from google.colab import output\n",
        "output.disable_custom_widget_manager()"
      ],
      "metadata": {
        "id": "FA-iyfjPSuYE"
      },
      "execution_count": null,
      "outputs": []
    }
  ],
  "metadata": {
    "colab": {
      "provenance": []
    },
    "kernelspec": {
      "display_name": "Python 3",
      "language": "python",
      "name": "python3"
    },
    "language_info": {
      "codemirror_mode": {
        "name": "ipython",
        "version": 3
      },
      "file_extension": ".py",
      "mimetype": "text/x-python",
      "name": "python",
      "nbconvert_exporter": "python",
      "pygments_lexer": "ipython3",
      "version": "3.6.10"
    }
  },
  "nbformat": 4,
  "nbformat_minor": 0
}