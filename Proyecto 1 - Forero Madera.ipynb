{
  "cells": [
    {
      "cell_type": "markdown",
      "metadata": {
        "id": "jZGudLGXJAkG"
      },
      "source": [
        "# Red Neuronal para Clasificación no Lineal"
      ]
    },
    {
      "cell_type": "code",
      "execution_count": 2,
      "metadata": {
        "id": "FHyvnjYaJAkH"
      },
      "outputs": [],
      "source": [
        "import numpy as np\n",
        "import matplotlib.pyplot as plt\n",
        "import random\n",
        "import math\n",
        "from _collections_abc import Callable\n",
        "\n",
        "%matplotlib inline"
      ]
    },
    {
      "cell_type": "markdown",
      "metadata": {
        "id": "OxIifSyEJAkI"
      },
      "source": [
        "Cree los datos de entrada y sus etiquetas:"
      ]
    },
    {
      "cell_type": "code",
      "execution_count": 3,
      "metadata": {
        "id": "cn2rarW_JAkI"
      },
      "outputs": [],
      "source": [
        "#Generate entry data via function\n",
        "def get_data(xo:float = 1.2, yo:float = 0.3, quantity:int = 5000, a:float = 1.4, b:float = 0.3) -> list[tuple[tuple[float,float],float]]:\n",
        "  prevTuple:tuple[float,float] = (xo, yo)\n",
        "  data:list[tuple[tuple[float,float],float]] = []\n",
        "  for i in range(quantity):\n",
        "    next_x:float = 1 - a*np.power(prevTuple[0],2) + prevTuple[1]\n",
        "    next_y:float = b*prevTuple[0]\n",
        "    data.append( (prevTuple, next_x) ) #Create pairs {(xn, yn), xn+1}\n",
        "    prevTuple = (next_x, next_y)\n",
        "  return data\n",
        "\n",
        "#Generate and split data\n",
        "full_data = get_data()\n",
        "random.shuffle(full_data)\n",
        "separator = round(len(full_data)*0.7)\n",
        "train_data = full_data[:separator] #Obtener los primeros elementos (~70% de data)\n",
        "validation_data = full_data[separator:] #Obtener el resto (~30% de data)\n",
        "\n",
        "#Assign training data and their tags\n",
        "X = [data[0] for data in train_data]\n",
        "y = [data[1] for data in train_data]"
      ]
    },
    {
      "cell_type": "markdown",
      "metadata": {
        "id": "LjEl_O9LJAkI"
      },
      "source": [
        "Para una red neuronal con dos neuronas en la capa de entrada, dos en la capa escondida y una en la salida, inicialize los pesos y sesgos:"
      ]
    },
    {
      "cell_type": "code",
      "execution_count": 4,
      "metadata": {
        "id": "Hto2hDMIJAkI"
      },
      "outputs": [],
      "source": [
        "w1 = [2 * random.random() - 1, 2 * random.random() - 1]\n",
        "w2 = [2 * random.random() - 1, 2 * random.random() - 1]\n",
        "w3 = [2 * random.random() - 1, 2 * random.random() - 1]\n",
        "\n",
        "b1 = 2 * random.random() - 1\n",
        "b2 = 2 * random.random() - 1\n",
        "b3 = 2 * random.random() - 1\n",
        "\n",
        "eta = 0.1"
      ]
    },
    {
      "cell_type": "markdown",
      "metadata": {
        "id": "NoI6Nqd_JAkI"
      },
      "source": [
        "Defina la función de activación y su derivada:"
      ]
    },
    {
      "cell_type": "code",
      "execution_count": 5,
      "metadata": {
        "id": "mPtfxalJJAkI"
      },
      "outputs": [],
      "source": [
        "def sigmoid(x):\n",
        "    # Definicion de la función sigmoide\n",
        "    return 1/(1 + math.exp(-x))\n",
        "\n",
        "def dsigmoid(y): #Entrada: y = sigmoid(x)\n",
        "    # Definicion de la derivada de la función sigmoide\n",
        "    return y*(1 - y)\n"
      ]
    },
    {
      "cell_type": "markdown",
      "metadata": {
        "id": "oabNCxveJAkJ"
      },
      "source": [
        "## Forward pass"
      ]
    },
    {
      "cell_type": "code",
      "execution_count": 6,
      "metadata": {
        "id": "B0RAAKGiJAkJ"
      },
      "outputs": [],
      "source": [
        "def forward_step(inputs: list[float], weights: list[float], bias: float, activation_func: Callable[[float], float]) -> tuple[float, float]:\n",
        "  y_predict = np.dot(inputs, weights) + bias\n",
        "\n",
        "  return (activation_func(y_predict), y_predict)"
      ]
    },
    {
      "cell_type": "markdown",
      "metadata": {
        "id": "xIMCJTWbJAkJ"
      },
      "source": [
        "## Backward pass"
      ]
    },
    {
      "cell_type": "markdown",
      "metadata": {
        "id": "hsHaU6Y9JAkJ"
      },
      "source": [
        "Implemente las derivadas del error respecto a los parámetros w y b:"
      ]
    },
    {
      "cell_type": "code",
      "execution_count": 11,
      "metadata": {
        "id": "zLiwBDRnJAkJ"
      },
      "outputs": [],
      "source": [
        "#Returns list as follows: w11, w12, w21, w22, w31, w32, b1, b2, b3\n",
        "#To-do make derivative of activation an injectable parameter instead of fixed\n",
        "def get_derivatives(X:tuple[float, float], y:float, y_pred:float, Z:tuple[float,float,float], A:tuple[float,float]) -> list[float]:\n",
        "  global w1, w2, w3, b1, b2, b3\n",
        "  dE_w31 = (-1)*(y - y_pred)*(y_pred)*(1 - y_pred)*A[0]\n",
        "  dE_w32 = (-1)*(y - y_pred)*(y_pred)*(1 - y_pred)*A[1]\n",
        "  dE_b3 = (-1)*(y - y_pred)*(y_pred)*(1 - y_pred)*1\n",
        "  dE_w21 = ( (-1)*(y - y_pred)*(y_pred)*(1 - y_pred) ) * (w3[1]) * dsigmoid(Z[1]) * X[0]\n",
        "  dE_w22 = ( (-1)*(y - y_pred)*(y_pred)*(1 - y_pred) ) * (w3[1]) * dsigmoid(Z[1]) * X[1]\n",
        "  dE_b2 = ( (-1)*(y - y_pred)*(y_pred)*(1 - y_pred) ) * (w3[1]) * dsigmoid(Z[1]) * 1\n",
        "  dE_w11 = ( (-1)*(y - y_pred)*(y_pred)*(1 - y_pred) ) * (w3[0]) * dsigmoid(Z[0]) * X[0]\n",
        "  dE_w12 = ( (-1)*(y - y_pred)*(y_pred)*(1 - y_pred) ) * (w3[0]) * dsigmoid(Z[0]) * X[1]\n",
        "  dE_b1 = ( (-1)*(y - y_pred)*(y_pred)*(1 - y_pred) ) * (w3[0]) * dsigmoid(Z[0]) * 1\n",
        "  result = [dE_w11, dE_w12, dE_w21, dE_w22, dE_w31, dE_w32, dE_b1, dE_b2, dE_b3]\n",
        "  return result\n"
      ]
    },
    {
      "cell_type": "markdown",
      "metadata": {
        "id": "MYbXvg5KJAkJ"
      },
      "source": [
        "Implemente la correción de los parámetros:"
      ]
    },
    {
      "cell_type": "code",
      "execution_count": 12,
      "metadata": {
        "id": "kjwsLQ5bJAkJ"
      },
      "outputs": [],
      "source": [
        "#NOTE. This will modify global weights and biases according to last forward pass\n",
        "def backward_pass(error:float, learn_rate:float, input:list[float], y:float, y_pred:float, Z:tuple[float,float,float], A:tuple[float,float]):\n",
        "  global w1, w2, w3, b1, b2, b3\n",
        "  derivatives = get_derivatives(tuple(input), y, y_pred, Z, A)\n",
        "  w1 = (w1[0] - learn_rate * derivatives[0], w1[1] - learn_rate * derivatives[1])\n",
        "  w2 = (w2[0] - learn_rate * derivatives[2], w2[1] - learn_rate * derivatives[3])\n",
        "  w3 = (w3[0] - learn_rate * derivatives[4], w3[1] - learn_rate * derivatives[5])\n",
        "  b1 = b1 - learn_rate * derivatives[6]\n",
        "  b2 = b2 - learn_rate * derivatives[7]\n",
        "  b3 = b3 - learn_rate * derivatives[8]"
      ]
    },
    {
      "cell_type": "markdown",
      "metadata": {
        "id": "2lDjldVeJAkJ"
      },
      "source": [
        "## Entrenamiento de la red neuronal"
      ]
    },
    {
      "cell_type": "markdown",
      "metadata": {
        "id": "j7aErHd4JAkJ"
      },
      "source": [
        "Use el esquema de \"Retropropagación\" para entrenar la red."
      ]
    },
    {
      "cell_type": "code",
      "execution_count": null,
      "metadata": {
        "id": "vOW3d27xJAkJ"
      },
      "outputs": [],
      "source": [
        "# Implementación de la retropropagación"
      ]
    },
    {
      "cell_type": "markdown",
      "metadata": {
        "id": "sLPHrJRUJAkK"
      },
      "source": [
        "Valide del entrenamiento. Con una gráfica del error en funcion de las épocas."
      ]
    },
    {
      "cell_type": "code",
      "execution_count": null,
      "metadata": {
        "id": "RN0__w_eJAkK"
      },
      "outputs": [],
      "source": [
        "# Gráfica Error vs. Épocas"
      ]
    },
    {
      "cell_type": "code",
      "execution_count": null,
      "metadata": {
        "id": "qUZIxE6MJAkK"
      },
      "outputs": [],
      "source": []
    }
  ],
  "metadata": {
    "colab": {
      "provenance": []
    },
    "kernelspec": {
      "display_name": "Python 3",
      "language": "python",
      "name": "python3"
    },
    "language_info": {
      "codemirror_mode": {
        "name": "ipython",
        "version": 3
      },
      "file_extension": ".py",
      "mimetype": "text/x-python",
      "name": "python",
      "nbconvert_exporter": "python",
      "pygments_lexer": "ipython3",
      "version": "3.6.10"
    }
  },
  "nbformat": 4,
  "nbformat_minor": 0
}
