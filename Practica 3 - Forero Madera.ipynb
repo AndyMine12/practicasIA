{
  "cells": [
    {
      "cell_type": "markdown",
      "metadata": {
        "id": "jZGudLGXJAkG"
      },
      "source": [
        "# Red Neuronal para Clasificación no Lineal"
      ]
    },
    {
      "cell_type": "code",
      "source": [
        "#I don't think this is needed for this one; !pip install ipympl"
      ],
      "metadata": {
        "collapsed": true,
        "id": "gNgs2DwYSclN"
      },
      "execution_count": 2,
      "outputs": []
    },
    {
      "cell_type": "code",
      "execution_count": 3,
      "metadata": {
        "id": "FHyvnjYaJAkH"
      },
      "outputs": [],
      "source": [
        "import numpy as np\n",
        "import matplotlib.pyplot as plt\n",
        "import pandas as pd\n",
        "import random\n",
        "import math\n",
        "import seaborn\n",
        "from _collections_abc import Callable\n",
        "from google.colab import output\n",
        "\n",
        "# I think we won't use this, this time\n",
        "# %matplotlib inline\n",
        "# %matplotlib widget\n",
        "# output.enable_custom_widget_manager()"
      ]
    },
    {
      "cell_type": "markdown",
      "metadata": {
        "id": "OxIifSyEJAkI"
      },
      "source": [
        "Cree los datos de entrada y sus etiquetas:"
      ]
    },
    {
      "cell_type": "code",
      "execution_count": 4,
      "metadata": {
        "id": "cn2rarW_JAkI",
        "outputId": "fea1b201-9c0a-4e0e-8eda-d91231a88176",
        "colab": {
          "base_uri": "https://localhost:8080/",
          "height": 466
        }
      },
      "outputs": [
        {
          "output_type": "execute_result",
          "data": {
            "text/plain": [
              "<Axes: xlabel='x', ylabel='y'>"
            ]
          },
          "metadata": {},
          "execution_count": 4
        },
        {
          "output_type": "display_data",
          "data": {
            "text/plain": [
              "<Figure size 640x480 with 1 Axes>"
            ],
            "image/png": "[encoded data removed]"
          },
          "metadata": {}
        }
      ],
      "source": [
        "#Generate and split data\n",
        "full_data = [((0,0),0),((0,1),1), ((1,0),1), ((1,1),0)]\n",
        "random.shuffle(full_data)\n",
        "train_data = full_data[:3] #Obtener los primeros 3 elementos (~75% de data)\n",
        "validation_data = full_data[3:] #Obtener el resto: 1 elemento (~25% de data)\n",
        "\n",
        "#Assign training data and their tags\n",
        "X = [data[0] for data in train_data]\n",
        "y = [data[1] for data in train_data]\n",
        "\n",
        "#Show generated data\n",
        "# Get full data\n",
        "data_dict:dict = {\"x\":[], \"y\":[], \"label\":[], \"group\":[]}\n",
        "for item in train_data:\n",
        "  data_dict[\"x\"].append(item[0][0])\n",
        "  data_dict[\"y\"].append(item[0][1])\n",
        "  data_dict[\"label\"].append(item[1])\n",
        "  data_dict[\"group\"].append(\"train\")\n",
        "for item in validation_data:\n",
        "  data_dict[\"x\"].append(item[0][0])\n",
        "  data_dict[\"y\"].append(item[0][1])\n",
        "  data_dict[\"label\"].append(item[1])\n",
        "  data_dict[\"group\"].append(\"validation\")\n",
        "# Graph\n",
        "seaborn.scatterplot(data=pd.DataFrame(data_dict),x=\"x\",y=\"y\",hue=\"label\", style=\"group\")"
      ]
    },
    {
      "cell_type": "markdown",
      "metadata": {
        "id": "LjEl_O9LJAkI"
      },
      "source": [
        "Abstracción de Red Neuronal\n",
        "\n",
        "Capa de Red Feedforward"
      ]
    },
    {
      "cell_type": "code",
      "execution_count": 16,
      "metadata": {
        "id": "Hto2hDMIJAkI"
      },
      "outputs": [],
      "source": [
        "#Models a whole hidden layer of a feedforward network\n",
        "class feedforward_layer:\n",
        "  def __init__(self, entry_data_size:int, neurons:int, activation_func:Callable[[float],float], derivated_activation_func:Callable[[float],float]):\n",
        "    self.neurons:int = neurons\n",
        "    self.activation_func:Callable[[float],float] = activation_func\n",
        "    self.derivated_activation_func:Callable[[float],float] = derivated_activation_func\n",
        "    self.weights:list[list[float]] = []\n",
        "    self.biases:list[float] = []\n",
        "    for i in range(neurons):\n",
        "      neuron_weight = []\n",
        "      for j in range(entry_data_size):\n",
        "        neuron_weight.append(1 - 2*random.random())\n",
        "      self.weights.append(neuron_weight)\n",
        "      self.biases.append(0)\n",
        "    self.Z:list[float] = None #Argument of the activation function\n",
        "    self.A:list[float] = None #Layer output\n",
        "\n",
        "  def forward_pass(self, prev_output:list[float]) -> list[float]:\n",
        "    self.Z = []\n",
        "    self.A = []\n",
        "    for item in zip(self.weights,self.biases):\n",
        "      neuron_weight = item[0]\n",
        "      neuron_z = 0\n",
        "      for elem in zip(prev_output, neuron_weight):\n",
        "        neuron_z += elem[1]*elem[0]\n",
        "      neuron_z += item[1] #Add the neuron's bias\n",
        "      self.Z.append(neuron_z)\n",
        "      self.A.append(self.activation_func(neuron_z))\n",
        "    return self.A\n",
        "\n",
        "  @property\n",
        "  def get_weights(self) -> list[list[float]]:\n",
        "    return self.weights.copy()\n",
        "  @property\n",
        "  def output(self) -> list[float]:\n",
        "    return self.A.copy()\n",
        "\n",
        "  def self_delta(self, next_weights:list[list[float]], next_delta:np.ndarray, gradient_value:np.ndarray)->np.ndarray:\n",
        "    W_array = np.array(next_weights)\n",
        "    delta_prop = np.matmul(W_array.T, next_delta)\n",
        "    delta = delta_prop * gradient_value\n",
        "    return delta\n",
        "\n",
        "  def backpropagation(self, learn_rate:float, prev_output:list[float], next_weights:list[list[float]], next_delta:np.ndarray, gradient_value:np.ndarray) -> None:\n",
        "    delta_T = (self.self_delta(next_weights, next_delta, gradient_value)).T\n",
        "    adjust_matrix = learn_rate * delta_T\n",
        "\n",
        "    new_weights = []\n",
        "    for item in zip(self.weights, np.matmul(adjust_matrix, np.array(prev_output))):\n",
        "      neuron_weight = []\n",
        "      for elem in zip(item[0], item[1]):\n",
        "        neuron_weight.append(elem[0] - elem[1])\n",
        "      new_weights.append(neuron_weight)\n",
        "    self.weights = new_weights\n",
        "\n",
        "    new_biases = []\n",
        "    for item in zip(self.biases, adjust_matrix):\n",
        "      new_biases.append(item[0] - item[1])\n",
        "    self.biases = new_biases\n",
        "\n",
        "#Models the entry layer of the network, sets activation function as identity so that the data is not modified on entry\n",
        "class input_feedforward_layer(feedforward_layer):\n",
        "  def __init__(self, entry_data_size:int):\n",
        "    super().__init__(entry_data_size, entry_data_size, lambda x: x, lambda x: 0)\n",
        "\n",
        "  def backpropagation(self, learn_rate:float, prev_output:list[float], next_weights:list[list[float]], next_delta:np.ndarray, gradient_value:np.ndarray) -> None:\n",
        "    pass\n",
        "\n",
        "#Models the output layer of the network\n",
        "class output_feedforward_layer(feedforward_layer):\n",
        "  @property\n",
        "  def gradient(self)->np.ndarray:\n",
        "    gradient = []\n",
        "    for item in self.Z:\n",
        "      gradient.append(self.derivated_activation_func(item))\n",
        "    return np.array(gradient)\n",
        "\n",
        "  def self_delta(self, expected_values:list[float])->np.ndarray:\n",
        "    error_matrix:list[float] = []\n",
        "    for item in zip(expected_values, self.A):\n",
        "      error_matrix.append(item[0] - item[1])\n",
        "    delta = []\n",
        "    for item in zip(error_matrix, self.gradient):\n",
        "      delta.append(item[0] * item[1])\n",
        "    return np.array(delta)\n",
        "\n",
        "  def backpropagation(self, expected_values:list[float], learn_rate:float, prev_output:list[float]) -> None:\n",
        "    delta_T = (self.self_delta(expected_values)).T\n",
        "    adjust_matrix = learn_rate * delta_T\n",
        "\n",
        "    new_weights = []\n",
        "    for item in zip(self.weights, np.matmul(adjust_matrix, np.array(prev_output))):\n",
        "      neuron_weight = []\n",
        "      for elem in zip(item[0], item[1]):\n",
        "        neuron_weight.append(elem[0] - elem[1])\n",
        "      new_weights.append(neuron_weight)\n",
        "    self.weights = new_weights\n",
        "\n",
        "    new_biases = []\n",
        "    for item in zip(self.biases, adjust_matrix):\n",
        "      new_biases.append(item[0] - item[1])\n",
        "    self.biases = new_biases\n",
        "\n",
        "#Models the feedforward network / \"Multilayer Perceptron\"\n",
        "class feedforward_network:\n",
        "  def __init__(self, network_structure:list[int], activation_functions:list[Callable[[float],float]], derivated_activation_functions:list[Callable[[float],float]], tolerance = np.power(10.0, -5)):\n",
        "    self.layers: list[feedforward_layer] = []\n",
        "    self.tolerance: float = tolerance\n",
        "\n",
        "    prevLayerSize:int = 0\n",
        "    for item in enumerate(network_structure, 1): #Start enumeration at index = 1\n",
        "      if item[0] == 1:\n",
        "        self.layers.append(input_feedforward_layer(item[1]))\n",
        "        self.entry_size:int = item[1]\n",
        "      elif ( item[0] < len(network_structure) ):\n",
        "        self.layers.append(feedforward_layer(prevLayerSize, item[1], activation_functions[item[0] - 2], derivated_activation_functions[item[0] - 2]))\n",
        "      else:\n",
        "        self.layers.append(output_feedforward_layer(prevLayerSize, item[1], activation_functions[item[0] - 2], derivated_activation_functions[item[0] - 2]))\n",
        "        self.output_size:int = item[1]\n",
        "      prevLayerSize = item[1]\n",
        "\n",
        "  @property\n",
        "  def get_entry_size(self) -> int:\n",
        "    return self.entry_size\n",
        "  @property\n",
        "  def get_output_size(self) -> int:\n",
        "    return self.output_size\n",
        "\n",
        "  def predict(self, data:list[list[float]]) -> list[list[float]]:\n",
        "    output:list[list[float]] = []\n",
        "    for item in data:\n",
        "      prev_output:list[float] = item\n",
        "      for layer in self.layers:\n",
        "        prev_output = layer.forward_pass(prev_output)\n",
        "      output.append(prev_output)\n",
        "    return output\n",
        "\n",
        "  #Trains the model for the desired number of epochs, returns a list of (index, error) per-epoch\n",
        "  def train(self, train_data:list[list[float]], tags:list[list[float]], learn_rate:float, epochs:int = 200, printEach:int = None) -> list[tuple[int,float]]:\n",
        "    errorList:list[tuple[int,float]] = []\n",
        "    acc:int = 0\n",
        "    big_acc:int = 1\n",
        "    for i in range(epochs):\n",
        "      errorAvg:float = 0\n",
        "      #Train with all data each epoch\n",
        "      for data, tag in zip(train_data,tags):\n",
        "        #Do forward-pass\n",
        "        output:list[float] = data\n",
        "        for layer in self.layers:\n",
        "          output = layer.forward_pass(output)\n",
        "\n",
        "        #Calculate partial error\n",
        "        error:float = 0\n",
        "        for value in zip(output, tag):\n",
        "          error += (1/(2*len(tag))) * np.power(value[0] - value[1], 2)\n",
        "        errorAvg += (1/len(tags)) * error\n",
        "\n",
        "        #Do backpropagation\n",
        "        for index, layer in enumerate(reversed(self.layers),0):\n",
        "          gradient:list[float] = None\n",
        "          prev_delta:np.ndarray = None\n",
        "          prev_output:list[float] = self.layers[-2 - index].output\n",
        "\n",
        "          if (index == 0): #The current layer is the output layer\n",
        "            gradient = layer.gradient\n",
        "            prev_delta = layer.self_delta(tag)\n",
        "            layer.backpropagation(tag, learn_rate, prev_output)\n",
        "          elif (index < len(self.layers) - 1): #The current layer is a hidden layer\n",
        "            layer.backpropagation(learn_rate, prev_output, self.layers[index+1].weights, prev_delta, gradient)\n",
        "            prev_delta = layer.self_delta(self.layers[index+1].weights, prev_delta, gradient)\n",
        "          #The input layer does not require backpropagation\n",
        "      #Add error of current epoch to list\n",
        "      errorList.append( (i+1, errorAvg) )\n",
        "\n",
        "      #If desired, print progress when iteration reached\n",
        "      if (printEach is not None):\n",
        "        acc += 1\n",
        "        if (acc >= printEach):\n",
        "          print(f\"Iteration {acc*big_acc} reached\")\n",
        "          big_acc += 1\n",
        "          acc = 0\n",
        "\n",
        "      #Check if tolerance threshold was reached\n",
        "      if (errorAvg < self.tolerance):\n",
        "        break\n",
        "    return errorList\n",
        ""
      ]
    },
    {
      "cell_type": "markdown",
      "metadata": {
        "id": "NoI6Nqd_JAkI"
      },
      "source": [
        "Defina la función de activación y su derivada:"
      ]
    },
    {
      "cell_type": "code",
      "execution_count": 7,
      "metadata": {
        "id": "mPtfxalJJAkI"
      },
      "outputs": [],
      "source": [
        "def sigmoid(x):\n",
        "    # Definicion de la función sigmoide\n",
        "    return 1/(1 + math.exp(-x))\n",
        "\n",
        "def dsigmoid(x):\n",
        "    # Definicion de la derivada de la función sigmoide\n",
        "    return sigmoid(x)*(1 - sigmoid(x))\n",
        "\n",
        "def r_sigmoid_create(r):\n",
        "  return (lambda x: sigmoid(r*x))\n",
        "\n",
        "def r_dsigmoid_create(r):\n",
        "  return (lambda x: dsigmoid(r*x)*r)"
      ]
    },
    {
      "cell_type": "markdown",
      "metadata": {
        "id": "2lDjldVeJAkJ"
      },
      "source": [
        "## Entrenamiento de la red neuronal"
      ]
    },
    {
      "cell_type": "markdown",
      "metadata": {
        "id": "j7aErHd4JAkJ"
      },
      "source": [
        "Use el esquema de \"Retropropagación\" para entrenar la red."
      ]
    },
    {
      "cell_type": "code",
      "execution_count": 32,
      "metadata": {
        "id": "vOW3d27xJAkJ",
        "outputId": "b7b5b79e-bb51-4296-fddd-c56440ef4c2b",
        "colab": {
          "base_uri": "https://localhost:8080/"
        }
      },
      "outputs": [
        {
          "output_type": "stream",
          "name": "stdout",
          "text": [
            "[[0.462657972619888], [0.005894290573602485]]\n"
          ]
        }
      ],
      "source": [
        "# Build activation functions\n",
        "activation_functions = [r_sigmoid_create(10), r_sigmoid_create(1000)]\n",
        "# Build derivated functions\n",
        "deriv_activation_functions = [r_dsigmoid_create(10), r_dsigmoid_create(1000)]\n",
        "# Assemble network\n",
        "network = feedforward_network([2,2,1], activation_functions, deriv_activation_functions)\n",
        "\n",
        "# Split train data between data and tags\n",
        "only_data = [ list(item) for item in X]\n",
        "only_tags = [ [item] for item in y]\n",
        "# Train network\n",
        "print(network.predict([[1,2],[1,1]]))\n",
        "#network.train(only_data, only_tags, np.power(10.0, -5), printEach=20)\n"
      ]
    },
    {
      "cell_type": "code",
      "source": [
        "# Merely encapsulating the prediction process\n",
        "# NOTE. Only use after training\n",
        "def predict_data(data:list[tuple[float,float]]) -> list[float]:\n",
        "  global w1, w2, w3, b1, b2, b3\n",
        "  label_list:list[float] = []\n",
        "  for item in data:\n",
        "    result1 = forward_step(list(item), list(w1), b1, sigmoid)\n",
        "    result2 = forward_step(list(item), list(w2), b2, sigmoid)\n",
        "    result3 = forward_step([result1[0], result2[0]], list(w3), b3, sigmoid)\n",
        "    label_list.append(result3[0])\n",
        "  return label_list"
      ],
      "metadata": {
        "id": "8KrnsmPyfaZX"
      },
      "execution_count": null,
      "outputs": []
    },
    {
      "cell_type": "markdown",
      "metadata": {
        "id": "sLPHrJRUJAkK"
      },
      "source": [
        "Valide del entrenamiento. Con una gráfica del error en funcion de las épocas."
      ]
    },
    {
      "cell_type": "code",
      "source": [
        "# Gráfica Error vs. Épocas\n",
        "grafica = plt.figure().add_subplot()\n",
        "grafica.plot(errorList[0], errorList[1], color = \"red\")\n",
        "plt.show()"
      ],
      "metadata": {
        "id": "RXSZ8NF-c4x0"
      },
      "execution_count": null,
      "outputs": []
    },
    {
      "cell_type": "code",
      "execution_count": null,
      "metadata": {
        "id": "RN0__w_eJAkK"
      },
      "outputs": [],
      "source": [
        "# Get actual labels\n",
        "x: list[float] = []\n",
        "y: list[float] = []\n",
        "labels: list[float] = []\n",
        "for i in range(0, len(validation_data)):\n",
        "  x.append(validation_data[i][0][0])\n",
        "  y.append(validation_data[i][0][1])\n",
        "  labels.append(validation_data[i][1])\n",
        "\n",
        "# Get predicted labels\n",
        "input_data = [item[0] for item in validation_data]\n",
        "labels_pred : list[float] = predict_data(input_data)\n",
        "\n",
        "# Graph actual versus predictions\n",
        "grafica = plt.figure().add_subplot(projection = \"3d\")\n",
        "grafica.scatter(x, y, labels, color = \"blue\")\n",
        "grafica.scatter(x, y, labels_pred, color = \"red\")\n",
        "plt.show()\n",
        "\n",
        "# Calculate MSE\n",
        "error = 0\n",
        "for item in zip(labels, labels_pred):\n",
        "  error += np.power(item[0] - item[1], 2)\n",
        "error = error / len(labels)\n",
        "print(\"Mean Squared Error\\n\", error)"
      ]
    },
    {
      "cell_type": "markdown",
      "source": [
        "Support for third party widgets will remain active for the duration of the session. To disable support:"
      ],
      "metadata": {
        "id": "w0Cq1ZF2SuYD"
      }
    },
    {
      "cell_type": "markdown",
      "source": [
        "## Probando con Keras"
      ],
      "metadata": {
        "id": "NS8ZzyLq8kcd"
      }
    },
    {
      "cell_type": "code",
      "execution_count": null,
      "metadata": {
        "id": "qUZIxE6MJAkK"
      },
      "outputs": [],
      "source": [
        "import tensorflow as tf\n",
        "\n",
        "from tensorflow import keras\n",
        "from tensorflow.keras import layers\n",
        "\n",
        "training_x: list[float] = []\n",
        "training_y: list[float] = []\n",
        "training_labels: list[float] = []\n",
        "\n",
        "\n",
        "from sklearn import preprocessing\n",
        "\n",
        "data = []\n",
        "tag = []\n",
        "for item in train_data:\n",
        "  data.append(item[0])\n",
        "  tag.append(item[1])\n",
        "scaler = preprocessing.StandardScaler().fit(np.array(data))\n",
        "# min_tag = min(tag)\n",
        "# tag = [value - min_tag for value in tag] #Rescale tags for interval [0,1]\n",
        "postprocess = [scaler.transform(np.array(data)), tag]\n",
        "#Refill\n",
        "data = []\n",
        "for value in zip(postprocess[0], postprocess[1]):\n",
        "  data.append( (tuple(value[0]), value[1]) )\n",
        "scaled_train_data = data\n",
        "\n",
        "for i in range(0, len(scaled_train_data)):\n",
        "  training_x.append(scaled_train_data[i][0][0])\n",
        "  training_y.append(scaled_train_data[i][0][1])\n",
        "  training_labels.append(scaled_train_data[i][1])\n",
        "\n",
        "model = keras.Sequential()\n",
        "model.add(layers.Dense(units = 2, activation = \"sigmoid\", input_dim = 2))\n",
        "model.add(layers.Dense(units = 1, activation = \"sigmoid\"))\n",
        "#model.add(keras.Input(shape = (2,)))\n",
        "model.build()\n",
        "#optimizer = keras.optimizers.SGD()\n",
        "model.compile(optimizer = keras.optimizers.SGD(), loss = keras.losses.MeanSquaredError())\n",
        "model.summary()\n",
        "#lst = [np.array(training_x), np.array(training_y)]\n",
        "lst = np.array([np.array(item) for item in zip(training_x, training_y)])\n",
        "lbls = np.array([np.array(item) for item in training_labels])\n",
        "print(np.array(lst).shape)\n",
        "#arr = np.array(lst)\n",
        "\n",
        "\n",
        "model.fit(lst, lbls, epochs = 500)\n"
      ]
    },
    {
      "cell_type": "code",
      "source": [
        "eval_lst = np.array([np.array(item) for item in zip(x, y)])\n",
        "\n",
        "predict_lbls = model.predict(eval_lst)"
      ],
      "metadata": {
        "id": "4QSME5H98ujX"
      },
      "execution_count": null,
      "outputs": []
    },
    {
      "cell_type": "code",
      "source": [
        "grafica = plt.figure().add_subplot(projection = \"3d\")\n",
        "grafica.scatter(x, y, labels, color = \"blue\")\n",
        "grafica.scatter(x, y, predict_lbls, color = 'orange')\n",
        "plt.show()"
      ],
      "metadata": {
        "id": "GbdYTEOW8zA2"
      },
      "execution_count": null,
      "outputs": []
    },
    {
      "cell_type": "code",
      "source": [
        "from google.colab import output\n",
        "output.disable_custom_widget_manager()"
      ],
      "metadata": {
        "id": "FA-iyfjPSuYE"
      },
      "execution_count": null,
      "outputs": []
    }
  ],
  "metadata": {
    "colab": {
      "provenance": []
    },
    "kernelspec": {
      "display_name": "Python 3",
      "language": "python",
      "name": "python3"
    },
    "language_info": {
      "codemirror_mode": {
        "name": "ipython",
        "version": 3
      },
      "file_extension": ".py",
      "mimetype": "text/x-python",
      "name": "python",
      "nbconvert_exporter": "python",
      "pygments_lexer": "ipython3",
      "version": "3.6.10"
    }
  },
  "nbformat": 4,
  "nbformat_minor": 0
}