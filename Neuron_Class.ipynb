{
 "cells": [
  {
   "cell_type": "markdown",
   "metadata": {},
   "source": [
    "# Neurona Modelada como objeto"
   ]
  },
  {
   "cell_type": "code",
   "execution_count": null,
   "metadata": {},
   "outputs": [],
   "source": [
    "class Neuron:\n",
    "  def __init__(self, inputs: list[float], weights: list[float], bias: float, learning_rate: float, activation_func: Callable[[float], float], deriv_activation_func: Callable[[float], float], error_func: Callable[[float, float], float], deriv_error_func: Callable) -> None:\n",
    "    self.inputs = inputs\n",
    "    self.weights = weights\n",
    "    self.bias = bias\n",
    "    self.learning_rate = learning_rate\n",
    "    self.activation_func = activation_func\n",
    "    self.deriv_activation_func = deriv_activation_func\n",
    "    self.error_func = error_func\n",
    "    self.deriv_error_func = deriv_error_func\n",
    "\n",
    "  def step_forward(self) -> float:\n",
    "    y_predict: float = np.dot(self.inputs, self.weights) + self.bias\n",
    "\n",
    "    return self.activation_func(y_predict)\n",
    "  \n",
    "  def calculate_error(self, expected_y) -> float:\n",
    "    return self.error_func(expected_y - self.step_forward())\n",
    "\n",
    "  def step_backward(self, ) -> None:\n",
    "    for i in range(0, len(self.inputs)):\n",
    "      self.weights[i] -= self.deriv_error_func()*self.learning_rate"
   ]
  }
 ],
 "metadata": {
  "kernelspec": {
   "display_name": "Python 3",
   "language": "python",
   "name": "python3"
  },
  "language_info": {
   "name": "python",
   "version": "3.10.12"
  }
 },
 "nbformat": 4,
 "nbformat_minor": 2
}
